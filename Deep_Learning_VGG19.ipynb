{
  "cells": [
    {
      "cell_type": "code",
      "execution_count": null,
      "metadata": {
        "id": "ECLhjx3oAYms"
      },
      "outputs": [],
      "source": [
        "# importing libraries\n",
        "\n",
        "import numpy as np\n",
        "import matplotlib.pyplot as plt\n",
        "import os\n",
        "import random\n",
        "from tqdm import tqdm # for progress bar\n",
        "import seaborn as sns\n",
        "\n",
        "# Libraries for TensorFlow\n",
        "from tensorflow.keras.utils import to_categorical, plot_model\n",
        "from tensorflow.keras.preprocessing import image\n",
        "from tensorflow.keras import models, layers\n",
        "from tensorflow import keras\n",
        "import tensorflow as tf\n",
        "from keras.layers import Flatten,Dense,BatchNormalization,Activation,Dropout,BatchNormalization,MaxPooling2D\n",
        "from keras.models import Model\n",
        "\n",
        "\n",
        "EPOCHS = 50\n",
        "BATCH_SIZE = 60\n",
        "VERBOSE = 1\n",
        "N_HIDDEN=128\n",
        "NB_CLASSES = 10\n",
        "VALIDATION_SPLIT = 0.1"
      ]
    },
    {
      "cell_type": "code",
      "execution_count": null,
      "metadata": {
        "colab": {
          "base_uri": "https://localhost:8080/"
        },
        "id": "n7E28RvQAhGu",
        "outputId": "d026de79-7ba3-4d97-e085-4188664b5447"
      },
      "outputs": [
        {
          "name": "stdout",
          "output_type": "stream",
          "text": [
            "Downloading data from https://storage.googleapis.com/tensorflow/tf-keras-datasets/mnist.npz\n",
            "11490434/11490434 [==============================] - 0s 0us/step\n"
          ]
        }
      ],
      "source": [
        "# Loading dataset from keras\n",
        "\n",
        "(xtrain,ytrain),(xtest,ytest)= keras.datasets.mnist.load_data()"
      ]
    },
    {
      "cell_type": "code",
      "execution_count": null,
      "metadata": {
        "colab": {
          "base_uri": "https://localhost:8080/"
        },
        "id": "v8ZP-JgZAhLt",
        "outputId": "cb18ae40-4657-45f1-fff8-46fefb4de8f3"
      },
      "outputs": [
        {
          "data": {
            "text/plain": [
              "((60000, 28, 84), (10000, 28, 84))"
            ]
          },
          "execution_count": 3,
          "metadata": {},
          "output_type": "execute_result"
        }
      ],
      "source": [
        "# Convert the images into 3 channels as MNIST images are Black and White so have 1 channel\n",
        "\n",
        "xtrain=np.dstack([xtrain] * 3)\n",
        "xtest=np.dstack([xtest]*3)\n",
        "xtrain.shape,xtest.shape"
      ]
    },
    {
      "cell_type": "code",
      "execution_count": null,
      "metadata": {
        "colab": {
          "base_uri": "https://localhost:8080/"
        },
        "id": "iBalBOrPAhO4",
        "outputId": "02721370-39bc-4262-fb1b-f6cf9a9abe6f"
      },
      "outputs": [
        {
          "data": {
            "text/plain": [
              "((60000, 28, 28, 3), (10000, 28, 28, 3))"
            ]
          },
          "execution_count": 4,
          "metadata": {},
          "output_type": "execute_result"
        }
      ],
      "source": [
        "# Reshape images as per the tensor format required by tensorflow\n",
        "\n",
        "xtrain = xtrain.reshape(-1, 28,28,3)\n",
        "xtest= xtest.reshape (-1,28,28,3)\n",
        "xtrain.shape,xtest.shape\n"
      ]
    },
    {
      "cell_type": "code",
      "execution_count": null,
      "metadata": {
        "colab": {
          "base_uri": "https://localhost:8080/"
        },
        "id": "_HmpkBFHAhR3",
        "outputId": "f142d795-ed28-4b45-a1fc-6c1f2a721faa"
      },
      "outputs": [
        {
          "data": {
            "text/plain": [
              "((60000, 48, 48, 3), (10000, 48, 48, 3))"
            ]
          },
          "execution_count": 5,
          "metadata": {},
          "output_type": "execute_result"
        }
      ],
      "source": [
        "# Resize the images 48*48 as required by VGG16\n",
        "\n",
        "from tensorflow.keras.utils import img_to_array, array_to_img\n",
        "\n",
        "xtrain = np.asarray([img_to_array(array_to_img(im, scale=False).resize((48,48))) for im in xtrain])\n",
        "xtest = np.asarray([img_to_array(array_to_img(im, scale=False).resize((48,48))) for im in xtest])\n",
        "#train_x = preprocess_input(x)\n",
        "xtrain.shape, xtest.shape"
      ]
    },
    {
      "cell_type": "code",
      "execution_count": null,
      "metadata": {
        "id": "3RVcr05A2Uai"
      },
      "outputs": [],
      "source": [
        "# Normalise the data and change data type\n",
        "xtrain = xtrain / 255.\n",
        "xtest = xtest / 255.\n",
        "xtrain = xtrain.astype('float32')\n",
        "xtest = xtest.astype('float32')"
      ]
    },
    {
      "cell_type": "code",
      "execution_count": null,
      "metadata": {
        "id": "gEXxeI-R1pco"
      },
      "outputs": [],
      "source": [
        "ytrain = tf.keras.utils.to_categorical(ytrain, NB_CLASSES)\n",
        "ytest = tf.keras.utils.to_categorical(ytest, NB_CLASSES)"
      ]
    },
    {
      "cell_type": "code",
      "execution_count": null,
      "metadata": {
        "colab": {
          "base_uri": "https://localhost:8080/"
        },
        "id": "QsGCFKC3CWX9",
        "outputId": "8e94f48d-7f27-4582-de63-3ec72cb10e25"
      },
      "outputs": [
        {
          "name": "stdout",
          "output_type": "stream",
          "text": [
            "Summary of default VGG16 model.\n",
            "\n",
            "Downloading data from https://storage.googleapis.com/tensorflow/keras-applications/vgg19/vgg19_weights_tf_dim_ordering_tf_kernels.h5\n",
            "574710816/574710816 [==============================] - 3s 0us/step\n",
            "Model: \"vgg19\"\n",
            "_________________________________________________________________\n",
            " Layer (type)                Output Shape              Param #   \n",
            "=================================================================\n",
            " input_1 (InputLayer)        [(None, 224, 224, 3)]     0         \n",
            "                                                                 \n",
            " block1_conv1 (Conv2D)       (None, 224, 224, 64)      1792      \n",
            "                                                                 \n",
            " block1_conv2 (Conv2D)       (None, 224, 224, 64)      36928     \n",
            "                                                                 \n",
            " block1_pool (MaxPooling2D)  (None, 112, 112, 64)      0         \n",
            "                                                                 \n",
            " block2_conv1 (Conv2D)       (None, 112, 112, 128)     73856     \n",
            "                                                                 \n",
            " block2_conv2 (Conv2D)       (None, 112, 112, 128)     147584    \n",
            "                                                                 \n",
            " block2_pool (MaxPooling2D)  (None, 56, 56, 128)       0         \n",
            "                                                                 \n",
            " block3_conv1 (Conv2D)       (None, 56, 56, 256)       295168    \n",
            "                                                                 \n",
            " block3_conv2 (Conv2D)       (None, 56, 56, 256)       590080    \n",
            "                                                                 \n",
            " block3_conv3 (Conv2D)       (None, 56, 56, 256)       590080    \n",
            "                                                                 \n",
            " block3_conv4 (Conv2D)       (None, 56, 56, 256)       590080    \n",
            "                                                                 \n",
            " block3_pool (MaxPooling2D)  (None, 28, 28, 256)       0         \n",
            "                                                                 \n",
            " block4_conv1 (Conv2D)       (None, 28, 28, 512)       1180160   \n",
            "                                                                 \n",
            " block4_conv2 (Conv2D)       (None, 28, 28, 512)       2359808   \n",
            "                                                                 \n",
            " block4_conv3 (Conv2D)       (None, 28, 28, 512)       2359808   \n",
            "                                                                 \n",
            " block4_conv4 (Conv2D)       (None, 28, 28, 512)       2359808   \n",
            "                                                                 \n",
            " block4_pool (MaxPooling2D)  (None, 14, 14, 512)       0         \n",
            "                                                                 \n",
            " block5_conv1 (Conv2D)       (None, 14, 14, 512)       2359808   \n",
            "                                                                 \n",
            " block5_conv2 (Conv2D)       (None, 14, 14, 512)       2359808   \n",
            "                                                                 \n",
            " block5_conv3 (Conv2D)       (None, 14, 14, 512)       2359808   \n",
            "                                                                 \n",
            " block5_conv4 (Conv2D)       (None, 14, 14, 512)       2359808   \n",
            "                                                                 \n",
            " block5_pool (MaxPooling2D)  (None, 7, 7, 512)         0         \n",
            "                                                                 \n",
            " flatten (Flatten)           (None, 25088)             0         \n",
            "                                                                 \n",
            " fc1 (Dense)                 (None, 4096)              102764544 \n",
            "                                                                 \n",
            " fc2 (Dense)                 (None, 4096)              16781312  \n",
            "                                                                 \n",
            " predictions (Dense)         (None, 1000)              4097000   \n",
            "                                                                 \n",
            "=================================================================\n",
            "Total params: 143,667,240\n",
            "Trainable params: 143,667,240\n",
            "Non-trainable params: 0\n",
            "_________________________________________________________________\n"
          ]
        }
      ],
      "source": [
        "# Check properties of the model that we are going to use for Transfer Learning\n",
        "\n",
        "print(\"Summary of default VGG16 model.\\n\")\n",
        "\n",
        "# we are using VGG16 for transfer learnin here. So we have imported it\n",
        "from tensorflow.keras.applications import VGG19\n",
        "\n",
        "# initializing model with weights='imagenet'i.e. we are carring its original weights\n",
        "model_vgg19=VGG19(weights='imagenet')\n",
        "\n",
        "# display the summary to see the properties of the model\n",
        "model_vgg19.summary()"
      ]
    },
    {
      "cell_type": "code",
      "execution_count": null,
      "metadata": {
        "colab": {
          "base_uri": "https://localhost:8080/"
        },
        "id": "QT1APCyJCWap",
        "outputId": "7690a61d-5e0e-4dd7-b3cd-83e1dc0b8694"
      },
      "outputs": [
        {
          "name": "stdout",
          "output_type": "stream",
          "text": [
            "Downloading data from https://storage.googleapis.com/tensorflow/keras-applications/vgg19/vgg19_weights_tf_dim_ordering_tf_kernels_notop.h5\n",
            "80134624/80134624 [==============================] - 1s 0us/step\n",
            "Model: \"vgg19\"\n",
            "_________________________________________________________________\n",
            " Layer (type)                Output Shape              Param #   \n",
            "=================================================================\n",
            " input_2 (InputLayer)        [(None, 48, 48, 3)]       0         \n",
            "                                                                 \n",
            " block1_conv1 (Conv2D)       (None, 48, 48, 64)        1792      \n",
            "                                                                 \n",
            " block1_conv2 (Conv2D)       (None, 48, 48, 64)        36928     \n",
            "                                                                 \n",
            " block1_pool (MaxPooling2D)  (None, 24, 24, 64)        0         \n",
            "                                                                 \n",
            " block2_conv1 (Conv2D)       (None, 24, 24, 128)       73856     \n",
            "                                                                 \n",
            " block2_conv2 (Conv2D)       (None, 24, 24, 128)       147584    \n",
            "                                                                 \n",
            " block2_pool (MaxPooling2D)  (None, 12, 12, 128)       0         \n",
            "                                                                 \n",
            " block3_conv1 (Conv2D)       (None, 12, 12, 256)       295168    \n",
            "                                                                 \n",
            " block3_conv2 (Conv2D)       (None, 12, 12, 256)       590080    \n",
            "                                                                 \n",
            " block3_conv3 (Conv2D)       (None, 12, 12, 256)       590080    \n",
            "                                                                 \n",
            " block3_conv4 (Conv2D)       (None, 12, 12, 256)       590080    \n",
            "                                                                 \n",
            " block3_pool (MaxPooling2D)  (None, 6, 6, 256)         0         \n",
            "                                                                 \n",
            " block4_conv1 (Conv2D)       (None, 6, 6, 512)         1180160   \n",
            "                                                                 \n",
            " block4_conv2 (Conv2D)       (None, 6, 6, 512)         2359808   \n",
            "                                                                 \n",
            " block4_conv3 (Conv2D)       (None, 6, 6, 512)         2359808   \n",
            "                                                                 \n",
            " block4_conv4 (Conv2D)       (None, 6, 6, 512)         2359808   \n",
            "                                                                 \n",
            " block4_pool (MaxPooling2D)  (None, 3, 3, 512)         0         \n",
            "                                                                 \n",
            " block5_conv1 (Conv2D)       (None, 3, 3, 512)         2359808   \n",
            "                                                                 \n",
            " block5_conv2 (Conv2D)       (None, 3, 3, 512)         2359808   \n",
            "                                                                 \n",
            " block5_conv3 (Conv2D)       (None, 3, 3, 512)         2359808   \n",
            "                                                                 \n",
            " block5_conv4 (Conv2D)       (None, 3, 3, 512)         2359808   \n",
            "                                                                 \n",
            " block5_pool (MaxPooling2D)  (None, 1, 1, 512)         0         \n",
            "                                                                 \n",
            "=================================================================\n",
            "Total params: 20,024,384\n",
            "Trainable params: 20,024,384\n",
            "Non-trainable params: 0\n",
            "_________________________________________________________________\n"
          ]
        }
      ],
      "source": [
        "# Modelling WITH Transfer Learning\n",
        "# Here we will prepare model as per our requirements\n",
        "\n",
        "\n",
        "# let us prepare our input_layer to pass our image size. default is (224,224,3). we will change it to (224,224,3)\n",
        "input_layer=layers.Input(shape=(48,48,3))\n",
        "model = tf.keras.models.Sequential()\n",
        "\n",
        "# initialize the transfer model VGG16 with appropriate properties per our need.\n",
        "# we are passing paramers as following\n",
        "# 1) weights='imagenet' - Using this we are carring weights as of original weights.\n",
        "# 2) input_tensor to pass the VGG16 using input_tensor\n",
        "# 3) we want to change the last layer so we are not including top layer\n",
        "base_model=VGG19(weights='imagenet',input_tensor=input_layer,include_top=False)\n",
        "\n",
        "# See the summary of the model with our properties.\n",
        "base_model.summary()"
      ]
    },
    {
      "cell_type": "code",
      "execution_count": null,
      "metadata": {
        "colab": {
          "base_uri": "https://localhost:8080/"
        },
        "id": "Cv6P9E3NTfkl",
        "outputId": "00b3dd0a-393f-4b8e-863f-2444fb26499c"
      },
      "outputs": [
        {
          "name": "stdout",
          "output_type": "stream",
          "text": [
            "block1_conv1 (3, 3, 3, 64)\n"
          ]
        }
      ],
      "source": [
        "layer = base_model.layers\n",
        "filters, biases = base_model.layers[1].get_weights()\n",
        "print(layer[1].name, filters.shape)"
      ]
    },
    {
      "cell_type": "code",
      "execution_count": null,
      "metadata": {
        "colab": {
          "base_uri": "https://localhost:8080/",
          "height": 665
        },
        "id": "AGBv9raeTgBk",
        "outputId": "2380d99d-004d-440e-b8cf-7022df06d9de"
      },
      "outputs": [
        {
          "data": {
            "image/png": "[encoded data removed]",
            "text/plain": [
              "<Figure size 576x864 with 64 Axes>"
            ]
          },
          "metadata": {},
          "output_type": "display_data"
        }
      ],
      "source": [
        "fig1 = plt.figure(figsize=(8,12))\n",
        "columns = 8\n",
        "rows = 8\n",
        "n_filters = rows * columns\n",
        "for i in range(1, n_filters+1):\n",
        "  f = filters[:, :, :, i-1]\n",
        "  fig1 = plt.subplot(rows,columns,i)\n",
        "  fig1.set_xticks([])\n",
        "  fig1.set_yticks([])\n",
        "  plt.imshow(f[:, :, 0], cmap='gray')\n",
        "plt.show()\n",
        "\n"
      ]
    },
    {
      "cell_type": "code",
      "execution_count": null,
      "metadata": {
        "colab": {
          "base_uri": "https://localhost:8080/"
        },
        "id": "_Awxr-h0T-_Q",
        "outputId": "c7abad08-4284-48f9-a53e-85b73796e99d"
      },
      "outputs": [
        {
          "name": "stdout",
          "output_type": "stream",
          "text": [
            "Model: \"model\"\n",
            "_________________________________________________________________\n",
            " Layer (type)                Output Shape              Param #   \n",
            "=================================================================\n",
            " input_2 (InputLayer)        [(None, 48, 48, 3)]       0         \n",
            "                                                                 \n",
            " block1_conv1 (Conv2D)       (None, 48, 48, 64)        1792      \n",
            "                                                                 \n",
            " block1_conv2 (Conv2D)       (None, 48, 48, 64)        36928     \n",
            "                                                                 \n",
            " block1_pool (MaxPooling2D)  (None, 24, 24, 64)        0         \n",
            "                                                                 \n",
            " block2_conv1 (Conv2D)       (None, 24, 24, 128)       73856     \n",
            "                                                                 \n",
            "=================================================================\n",
            "Total params: 112,576\n",
            "Trainable params: 112,576\n",
            "Non-trainable params: 0\n",
            "_________________________________________________________________\n",
            "None\n"
          ]
        }
      ],
      "source": [
        "conv_layer_index = [1, 2, 4]\n",
        "outputs = [base_model.layers[i].output for i in conv_layer_index]\n",
        "model_short = Model(inputs = base_model.inputs, outputs = outputs)\n",
        "print(model_short.summary())"
      ]
    },
    {
      "cell_type": "code",
      "execution_count": null,
      "metadata": {
        "colab": {
          "base_uri": "https://localhost:8080/"
        },
        "id": "XVa2Piv-X1An",
        "outputId": "cafd22f7-bc96-4b96-edca-02d2826694a1"
      },
      "outputs": [
        {
          "name": "stdout",
          "output_type": "stream",
          "text": [
            "1/1 [==============================] - 0s 138ms/step\n"
          ]
        }
      ],
      "source": [
        "img = xtest[0]\n",
        "img = np.expand_dims(img, 0)\n",
        "feature_map = model.predict(img)[0]"
      ]
    },
    {
      "cell_type": "code",
      "execution_count": null,
      "metadata": {
        "colab": {
          "base_uri": "https://localhost:8080/",
          "height": 267
        },
        "id": "UuY68INUT_LK",
        "outputId": "e8bce558-c825-4815-877a-178d88bc647f"
      },
      "outputs": [
        {
          "data": {
            "image/png": "[encoded data removed]",
            "text/plain": [
              "<Figure size 432x288 with 1 Axes>"
            ]
          },
          "metadata": {},
          "output_type": "display_data"
        }
      ],
      "source": [
        "# Visualize the feature map\n",
        "plt.imshow(feature_map[:, :, 0], cmap='gray')\n",
        "plt.show()"
      ]
    },
    {
      "cell_type": "code",
      "execution_count": null,
      "metadata": {
        "colab": {
          "base_uri": "https://localhost:8080/"
        },
        "id": "9wF7MZdnCwcX",
        "outputId": "235aeee5-1d2b-4617-b04d-d8f086d28119"
      },
      "outputs": [
        {
          "name": "stdout",
          "output_type": "stream",
          "text": [
            "Model: \"sequential\"\n",
            "_________________________________________________________________\n",
            " Layer (type)                Output Shape              Param #   \n",
            "=================================================================\n",
            " vgg19 (Functional)          (None, 1, 1, 512)         20024384  \n",
            "                                                                 \n",
            " flatten (Flatten)           (None, 512)               0         \n",
            "                                                                 \n",
            " dense (Dense)               (None, 512)               262656    \n",
            "                                                                 \n",
            " dense_1 (Dense)             (None, 256)               131328    \n",
            "                                                                 \n",
            " dense_2 (Dense)             (None, 100)               25700     \n",
            "                                                                 \n",
            " dense_3 (Dense)             (None, 10)                1010      \n",
            "                                                                 \n",
            "=================================================================\n",
            "Total params: 20,445,078\n",
            "Trainable params: 20,445,078\n",
            "Non-trainable params: 0\n",
            "_________________________________________________________________\n"
          ]
        }
      ],
      "source": [
        "#last_layer=model_vgg16.output # we are taking last layer of the model\n",
        "\n",
        "# Add flatten layer: we are extending Neural Network by adding flattn layer\n",
        "\n",
        "\n",
        "model.add(base_model)\n",
        "\n",
        "\n",
        "\n",
        "model.add(layers.Flatten())\n",
        "model.add(layers.Dense(512, activation = 'relu'))\n",
        "model.add(layers.Dense(256, activation = 'relu'))\n",
        "model.add(layers.Dense(100, activation = 'relu'))\n",
        "model.add(layers.Dense(10, activation = 'softmax'))\n",
        "\n",
        "\n",
        "# Summarize the model\n",
        "model.summary()"
      ]
    },
    {
      "cell_type": "code",
      "execution_count": null,
      "metadata": {
        "id": "0-2aAQvIC29p"
      },
      "outputs": [],
      "source": [
        "# we will freez all the layers except the last layer\n",
        "\n",
        "# we are making all the layers intrainable except the last layer\n",
        "for layer in base_model.layers:\n",
        "    layer.trainable=False"
      ]
    },
    {
      "cell_type": "code",
      "execution_count": null,
      "metadata": {
        "id": "DKuX94FS3m6p"
      },
      "outputs": [],
      "source": [
        "model.compile(loss='categorical_crossentropy', optimizer='adam',metrics=['accuracy'])"
      ]
    },
    {
      "cell_type": "code",
      "execution_count": null,
      "metadata": {
        "colab": {
          "background_save": true,
          "base_uri": "https://localhost:8080/"
        },
        "id": "u1l5l5HxC3F0",
        "outputId": "5bca3cff-a1fd-4896-c5bf-8cc125d358ab"
      },
      "outputs": [
        {
          "name": "stdout",
          "output_type": "stream",
          "text": [
            "Epoch 1/50\n",
            "900/900 [==============================] - 32s 27ms/step - loss: 0.3205 - accuracy: 0.8960 - val_loss: 0.1639 - val_accuracy: 0.9502\n",
            "Epoch 2/50\n",
            "900/900 [==============================] - 25s 28ms/step - loss: 0.1747 - accuracy: 0.9426 - val_loss: 0.1422 - val_accuracy: 0.9562\n",
            "Epoch 3/50\n",
            "900/900 [==============================] - 24s 27ms/step - loss: 0.1508 - accuracy: 0.9503 - val_loss: 0.1232 - val_accuracy: 0.9608\n",
            "Epoch 4/50\n",
            "900/900 [==============================] - 25s 27ms/step - loss: 0.1333 - accuracy: 0.9557 - val_loss: 0.1111 - val_accuracy: 0.9670\n",
            "Epoch 5/50\n",
            "900/900 [==============================] - 25s 27ms/step - loss: 0.1215 - accuracy: 0.9599 - val_loss: 0.1227 - val_accuracy: 0.9612\n",
            "Epoch 6/50\n",
            "900/900 [==============================] - 24s 27ms/step - loss: 0.1127 - accuracy: 0.9630 - val_loss: 0.1148 - val_accuracy: 0.9648\n",
            "Epoch 7/50\n",
            "900/900 [==============================] - 24s 27ms/step - loss: 0.1059 - accuracy: 0.9642 - val_loss: 0.1094 - val_accuracy: 0.9672\n",
            "Epoch 8/50\n",
            "900/900 [==============================] - 24s 27ms/step - loss: 0.0989 - accuracy: 0.9670 - val_loss: 0.1205 - val_accuracy: 0.9595\n",
            "Epoch 9/50\n",
            "900/900 [==============================] - 24s 27ms/step - loss: 0.0928 - accuracy: 0.9687 - val_loss: 0.1019 - val_accuracy: 0.9660\n",
            "Epoch 10/50\n",
            "900/900 [==============================] - 24s 27ms/step - loss: 0.0859 - accuracy: 0.9711 - val_loss: 0.0999 - val_accuracy: 0.9692\n",
            "Epoch 11/50\n",
            "900/900 [==============================] - 25s 27ms/step - loss: 0.0828 - accuracy: 0.9715 - val_loss: 0.1256 - val_accuracy: 0.9602\n",
            "Epoch 12/50\n",
            "900/900 [==============================] - 24s 27ms/step - loss: 0.0793 - accuracy: 0.9728 - val_loss: 0.0959 - val_accuracy: 0.9723\n",
            "Epoch 13/50\n",
            "900/900 [==============================] - 25s 27ms/step - loss: 0.0772 - accuracy: 0.9733 - val_loss: 0.0986 - val_accuracy: 0.9712\n",
            "Epoch 14/50\n",
            "900/900 [==============================] - 24s 27ms/step - loss: 0.0692 - accuracy: 0.9761 - val_loss: 0.1016 - val_accuracy: 0.9700\n",
            "Epoch 15/50\n",
            "900/900 [==============================] - 24s 27ms/step - loss: 0.0661 - accuracy: 0.9773 - val_loss: 0.0952 - val_accuracy: 0.9727\n",
            "Epoch 16/50\n",
            "900/900 [==============================] - 25s 27ms/step - loss: 0.0647 - accuracy: 0.9775 - val_loss: 0.1066 - val_accuracy: 0.9713\n",
            "Epoch 17/50\n",
            "900/900 [==============================] - 24s 27ms/step - loss: 0.0624 - accuracy: 0.9790 - val_loss: 0.0933 - val_accuracy: 0.9733\n",
            "Epoch 18/50\n",
            "900/900 [==============================] - 25s 27ms/step - loss: 0.0566 - accuracy: 0.9800 - val_loss: 0.0930 - val_accuracy: 0.9713\n",
            "Epoch 19/50\n",
            "900/900 [==============================] - 25s 27ms/step - loss: 0.0529 - accuracy: 0.9821 - val_loss: 0.1094 - val_accuracy: 0.9712\n",
            "Epoch 20/50\n",
            "900/900 [==============================] - 25s 27ms/step - loss: 0.0516 - accuracy: 0.9819 - val_loss: 0.1175 - val_accuracy: 0.9693\n",
            "Epoch 21/50\n",
            "900/900 [==============================] - 25s 27ms/step - loss: 0.0502 - accuracy: 0.9823 - val_loss: 0.0977 - val_accuracy: 0.9717\n",
            "Epoch 22/50\n",
            "900/900 [==============================] - 24s 27ms/step - loss: 0.0486 - accuracy: 0.9836 - val_loss: 0.1001 - val_accuracy: 0.9732\n",
            "Epoch 23/50\n",
            "900/900 [==============================] - 25s 28ms/step - loss: 0.0446 - accuracy: 0.9844 - val_loss: 0.0945 - val_accuracy: 0.9763\n",
            "Epoch 24/50\n",
            "900/900 [==============================] - 24s 27ms/step - loss: 0.0443 - accuracy: 0.9846 - val_loss: 0.1084 - val_accuracy: 0.9702\n",
            "Epoch 25/50\n",
            "900/900 [==============================] - 24s 27ms/step - loss: 0.0390 - accuracy: 0.9861 - val_loss: 0.1070 - val_accuracy: 0.9727\n",
            "Epoch 26/50\n",
            "900/900 [==============================] - 24s 27ms/step - loss: 0.0422 - accuracy: 0.9853 - val_loss: 0.1027 - val_accuracy: 0.9735\n",
            "Epoch 27/50\n",
            "900/900 [==============================] - 24s 27ms/step - loss: 0.0394 - accuracy: 0.9862 - val_loss: 0.1152 - val_accuracy: 0.9712\n",
            "Epoch 28/50\n",
            "900/900 [==============================] - 25s 27ms/step - loss: 0.0422 - accuracy: 0.9853 - val_loss: 0.1137 - val_accuracy: 0.9717\n",
            "Epoch 29/50\n",
            "900/900 [==============================] - 25s 27ms/step - loss: 0.0348 - accuracy: 0.9878 - val_loss: 0.1155 - val_accuracy: 0.9732\n",
            "Epoch 30/50\n",
            "900/900 [==============================] - 25s 27ms/step - loss: 0.0359 - accuracy: 0.9871 - val_loss: 0.1209 - val_accuracy: 0.9695\n",
            "Epoch 31/50\n",
            "900/900 [==============================] - 25s 27ms/step - loss: 0.0376 - accuracy: 0.9868 - val_loss: 0.1254 - val_accuracy: 0.9728\n",
            "Epoch 32/50\n",
            "900/900 [==============================] - 25s 27ms/step - loss: 0.0312 - accuracy: 0.9889 - val_loss: 0.1331 - val_accuracy: 0.9692\n",
            "Epoch 33/50\n",
            "900/900 [==============================] - 24s 27ms/step - loss: 0.0322 - accuracy: 0.9885 - val_loss: 0.1374 - val_accuracy: 0.9698\n",
            "Epoch 34/50\n",
            " 83/900 [=>............................] - ETA: 19s - loss: 0.0303 - accuracy: 0.9892"
          ]
        }
      ],
      "source": [
        "history = model.fit(xtrain,ytrain,epochs=EPOCHS,batch_size=BATCH_SIZE,verbose=VERBOSE,validation_split=VALIDATION_SPLIT)\n"
      ]
    },
    {
      "cell_type": "code",
      "execution_count": null,
      "metadata": {
        "id": "m9uqoX1Rz-Bw"
      },
      "outputs": [],
      "source": [
        "score= model.evaluate(xtest, ytest, verbose=VERBOSE)\n",
        "print(\"\\nTest Score:\", score[0])\n",
        "print('Test Accuracy:', score[1])"
      ]
    },
    {
      "cell_type": "code",
      "execution_count": null,
      "metadata": {
        "id": "Jaazbagh0ADE"
      },
      "outputs": [],
      "source": [
        "plt.plot(history.history['loss'])\n",
        "plt.plot(history.history['val_loss'])\n",
        "plt.title('Model Loss')\n",
        "plt.ylabel('Loss')\n",
        "plt.xlabel('Epoch')\n",
        "plt.legend(['Train', 'Test'], loc='upper left')\n",
        "plt.show()"
      ]
    },
    {
      "cell_type": "code",
      "execution_count": null,
      "metadata": {
        "id": "SXbk74j1j9QB"
      },
      "outputs": [],
      "source": [
        "plt.plot(history.history['accuracy'], label =\"train_accuracy\")\n",
        "plt.plot(history.history['val_accuracy'], label = \"test_accuracy\")\n",
        "plt.title('Model Accuracy')\n",
        "plt.ylabel('Accuracy')\n",
        "plt.xlabel('Epoch')\n",
        "plt.legend(['Train', 'Test'], loc='lower right')\n",
        "plt.show()\n",
        "\n",
        "\n"
      ]
    },
    {
      "cell_type": "code",
      "execution_count": null,
      "metadata": {
        "id": "XK3j5OtOj9XJ"
      },
      "outputs": [],
      "source": [
        "model.predict(np.expand_dims(xtest[0], axis=0)).round(2)"
      ]
    },
    {
      "cell_type": "code",
      "execution_count": null,
      "metadata": {
        "id": "K_hSlmVy0Cnc"
      },
      "outputs": [],
      "source": [
        "np.argmax(model.predict(np.expand_dims(xtest[0], axis=0)).round(2))"
      ]
    },
    {
      "cell_type": "code",
      "execution_count": null,
      "metadata": {
        "id": "fQPjopxnlBLz"
      },
      "outputs": [],
      "source": [
        "Y_test = [np.argmax(label) for label in ytest]\n",
        "Y_test[0]"
      ]
    },
    {
      "cell_type": "code",
      "execution_count": null,
      "metadata": {
        "id": "Fq1jc5r9lBWW"
      },
      "outputs": [],
      "source": [
        "y_pred = model.predict(xtest).round(2)\n",
        "y_pred"
      ]
    },
    {
      "cell_type": "code",
      "execution_count": null,
      "metadata": {
        "id": "xyJ61sUMlGoq"
      },
      "outputs": [],
      "source": [
        "from sklearn.metrics import confusion_matrix\n",
        "\n",
        "plt.figure(figsize=(16,9))\n",
        "y_pred_labels = [np.argmax(label) for label in y_pred]\n",
        "cm = confusion_matrix(Y_test, y_pred_labels)\n",
        "\n",
        "sns.heatmap(cm, annot=True, fmt='d')"
      ]
    }
  ],
  "metadata": {
    "accelerator": "GPU",
    "colab": {
      "provenance": []
    },
    "gpuClass": "standard",
    "kernelspec": {
      "display_name": "Python 3",
      "name": "python3"
    },
    "language_info": {
      "name": "python"
    }
  },
  "nbformat": 4,
  "nbformat_minor": 0
}